{
 "cells": [
  {
   "cell_type": "code",
   "execution_count": 1,
   "metadata": {},
   "outputs": [],
   "source": [
    "from sklearn import datasets\n",
    "import pandas as pd\n",
    "import numpy as np\n",
    "import queue"
   ]
  },
  {
   "cell_type": "code",
   "execution_count": 2,
   "metadata": {},
   "outputs": [],
   "source": [
    "iris = datasets.load_iris()"
   ]
  },
  {
   "cell_type": "code",
   "execution_count": 3,
   "metadata": {},
   "outputs": [],
   "source": [
    "df = pd.DataFrame(iris.data)\n",
    "df.columns = [\"sl\", \"sw\", 'pl', 'pw']"
   ]
  },
  {
   "cell_type": "code",
   "execution_count": 4,
   "metadata": {
    "code_folding": []
   },
   "outputs": [],
   "source": [
    "#Function to find label for a value\n",
    "#if MIN_Value <=val < (m + Mean_Value) / 2 then it is assigned label a\n",
    "#if (m + Mean_Value) <=val < Mean_Value then it is assigned label b\n",
    "#if (Mean_Value) <=val < (Mean_Value + MAX_Value)/2 then it is assigned label c\n",
    "#if (Mean_Value + MAX_Value)/2 <=val <= MAX_Value  then it is assigned label d\n",
    "\n",
    "def label(val, *boundaries):\n",
    "    if (val < boundaries[0]):\n",
    "        return 'a'\n",
    "    elif (val < boundaries[1]):\n",
    "        return 'b'\n",
    "    elif (val < boundaries[2]):\n",
    "        return 'c'\n",
    "    else:\n",
    "        return 'd'\n",
    "\n",
    "#Function to convert a continuous data into labelled data\n",
    "#There are 4 lables  - a, b, c, d\n",
    "def toLabel(df, old_feature_name):\n",
    "    second = df[old_feature_name].mean()\n",
    "    minimum = df[old_feature_name].min()\n",
    "    first = (minimum + second)/2\n",
    "    maximum = df[old_feature_name].max()\n",
    "    third = (maximum + second)/2\n",
    "    return df[old_feature_name].apply(label, args= (first, second, third))"
   ]
  },
  {
   "cell_type": "code",
   "execution_count": 5,
   "metadata": {},
   "outputs": [],
   "source": [
    "#Convert all columns to labelled data\n",
    "df['sl_labeled'] = toLabel(df, 'sl')\n",
    "df['sw_labeled'] = toLabel(df, 'sw')\n",
    "df['pl_labeled'] = toLabel(df, 'pl')\n",
    "df['pw_labeled'] = toLabel(df, 'pw')"
   ]
  },
  {
   "cell_type": "code",
   "execution_count": 6,
   "metadata": {},
   "outputs": [],
   "source": [
    "df.drop(['sl', 'sw', 'pl', 'pw'], axis = 1, inplace = True)"
   ]
  },
  {
   "cell_type": "code",
   "execution_count": 7,
   "metadata": {},
   "outputs": [
    {
     "data": {
      "text/plain": [
       "{'a', 'b', 'c', 'd'}"
      ]
     },
     "execution_count": 7,
     "metadata": {},
     "output_type": "execute_result"
    }
   ],
   "source": [
    "set(df['sl_labeled'])"
   ]
  },
  {
   "cell_type": "code",
   "execution_count": 8,
   "metadata": {},
   "outputs": [],
   "source": [
    "class tree:\n",
    "    def __init__(self,x,y,z,isleaf,f = ''):\n",
    "        self.count1 = x                     ## Count of Iris-Setosa(0)\n",
    "        self.count2 = y                     ## Count of Iris-Versicolor(1)\n",
    "        self.count3 = z                     ## Count of Iris-Virginica(2)\n",
    "        self.isleaf  = isleaf               ## For checking if the node is leaf or not\n",
    "        self.feature_selected = f\n",
    "        self.children = []                  ## Storing children of a node\n",
    "    \n",
    "    def add_children(self,child):\n",
    "        self.children.append(child)"
   ]
  },
  {
   "cell_type": "code",
   "execution_count": 9,
   "metadata": {},
   "outputs": [],
   "source": [
    "## Calculate split info i.e entropy after the split\n",
    "def split(df,f,y):\n",
    "    split_info = 0\n",
    "    unique_feature_values = set(df[f])\n",
    "    for i in unique_feature_values:\n",
    "        split_info += (len(df[df[f] == i])/len(df))*entropy(df[df[f] == i],y[df[f] == i])\n",
    "    return split_info"
   ]
  },
  {
   "cell_type": "code",
   "execution_count": 10,
   "metadata": {},
   "outputs": [],
   "source": [
    "## Calculate Entropy\n",
    "def entropy(df,y):\n",
    "    entr = 0\n",
    "    for i in set(y.Predicted):\n",
    "        entr += -(len(y[y[\"Predicted\"] == i])/len(df))*(np.log2(len(y[y[\"Predicted\"] == i])/len(df)))\n",
    "    return entr"
   ]
  },
  {
   "cell_type": "code",
   "execution_count": 11,
   "metadata": {},
   "outputs": [],
   "source": [
    "## Calculate gain entropy\n",
    "def gain(df,f,y):\n",
    "    total = len(df)\n",
    "    entr = entropy(df,y)\n",
    "    split_info = split(df,f,y)\n",
    "    \n",
    "    gain = entr/split_info\n",
    "    return f,gain,entr"
   ]
  },
  {
   "cell_type": "code",
   "execution_count": 12,
   "metadata": {},
   "outputs": [],
   "source": [
    "## Calculate on which particular feature to split the dataset\n",
    "def split_feature(df,features,y):\n",
    "    gain_of_feature = 0\n",
    "    for i in features:\n",
    "        selected_feature,gain_ratio,entr = gain(df,i,y)\n",
    "        if gain_of_feature < gain_ratio:\n",
    "            gain_of_feature = gain_ratio\n",
    "            feature_to_split_upon = selected_feature\n",
    "    \n",
    "    features.remove(feature_to_split_upon)\n",
    "    return feature_to_split_upon,gain_of_feature,entr"
   ]
  },
  {
   "cell_type": "code",
   "execution_count": 13,
   "metadata": {},
   "outputs": [],
   "source": [
    "## Combined function to implement the tree and\n",
    "## printing the output in required format\n",
    "\n",
    "def build_tree(df, y,features,n):\n",
    "    ## Checking for leaf node\n",
    "    ## Condition 1:  If there are no more features to split upon\n",
    "    ## Condition 2:  If the node is a pure node i.e contains only one type of data\n",
    "    if(len(features) == 0 or len(set(y.Predicted)) == 1 ):  \n",
    "        print(\"Level \",n)\n",
    "        count1,count2,count3 = 0,0,0\n",
    "        if len(y[y.Predicted == 0].Predicted.value_counts().values) != 0:\n",
    "            print(\"Count of Iris-Setosa = \",y[y.Predicted == 0].Predicted.value_counts().values[0])\n",
    "            count1 = y[y.Predicted == 0].Predicted.value_counts().values[0]\n",
    "        else:\n",
    "            print(\"Count of Iris-Setosa = 0\")\n",
    "        if len(y[y.Predicted == 1].Predicted.value_counts().values) != 0:\n",
    "            print(\"Count of Iris-versicolor = \",y[y.Predicted == 1].Predicted.value_counts().values[0])\n",
    "            count2 = y[y.Predicted == 1].Predicted.value_counts().values[0]\n",
    "        else:\n",
    "            print(\"Count of Iris-Versicolor = 0\")\n",
    "        if len(y[y.Predicted == 2].Predicted.value_counts().values) != 0:\n",
    "            print(\"Count of Iris-Virginica = \",y[y.Predicted == 2].Predicted.value_counts().values[0])\n",
    "            count3 = y[y.Predicted == 2].Predicted.value_counts().values[0]\n",
    "        else:\n",
    "            print(\"Count of Iris-Virginica = 0\")\n",
    "        print(\"Reached Leaf Node\")\n",
    "        print()\n",
    "        return tree(count1,count2,count3,True)\n",
    "        \n",
    "    feature_to_split_upon,gain_of_feature,info_gain = split_feature(df,features,y)\n",
    "    \n",
    "    l,m,k = 0,0,0\n",
    "    print(\"Level \",n)\n",
    "    if len(y[y.Predicted == 0].Predicted.value_counts().values) != 0:\n",
    "        print(\"Count of Iris-Setosa = \",y[y.Predicted == 0].Predicted.value_counts().values[0])\n",
    "        l = y[y.Predicted == 0].Predicted.value_counts().values[0]\n",
    "    else:\n",
    "        print(\"Count of Iris-Setosa = 0\")\n",
    "    if len(y[y.Predicted == 1].Predicted.value_counts().values) != 0:\n",
    "        print(\"Count of Iris-Versicolor = \",y[y.Predicted == 1].Predicted.value_counts().values[0])\n",
    "        m = y[y.Predicted == 1].Predicted.value_counts().values[0]\n",
    "    else:\n",
    "        print(\"Count of Iris-Versicolor = 0\")\n",
    "    if len(y[y.Predicted == 2].Predicted.value_counts().values) != 0:\n",
    "        print(\"Count of Iris-Virginica = \",y[y.Predicted == 2].Predicted.value_counts().values[0])\n",
    "        k = y[y.Predicted == 2].Predicted.value_counts().values[0]\n",
    "    else:\n",
    "        print(\"Count of Iris-Virginica = 0\")\n",
    "    \n",
    "    node = tree(l,m,k,False,feature_to_split_upon)\n",
    "    print(\"Current Entropy is :\",info_gain)\n",
    "    print(\"Splitting on feature \",feature_to_split_upon,\" with gain ratio\",gain_of_feature)\n",
    "    \n",
    "    print()\n",
    "\n",
    "    for i in set(df[feature_to_split_upon]):\n",
    "        listtemp = list(features)\n",
    "        sub_tree = build_tree(df[df[feature_to_split_upon] == i],y[df[feature_to_split_upon] == i],listtemp,n+1)\n",
    "        node.add_children([sub_tree,i])\n",
    "        \n",
    "    return node"
   ]
  },
  {
   "cell_type": "code",
   "execution_count": 14,
   "metadata": {
    "scrolled": false
   },
   "outputs": [
    {
     "name": "stdout",
     "output_type": "stream",
     "text": [
      "Level  0\n",
      "Count of Iris-Setosa =  50\n",
      "Count of Iris-Versicolor =  50\n",
      "Count of Iris-Virginica =  50\n",
      "Current Entropy is : 1.584962500721156\n",
      "Splitting on feature  pw_labeled  with gain ratio 4.918704784013118\n",
      "\n",
      "Level  1\n",
      "Count of Iris-Setosa = 0\n",
      "Count of Iris-versicolor =  10\n",
      "Count of Iris-Virginica = 0\n",
      "Reached Leaf Node\n",
      "\n",
      "Level  1\n",
      "Count of Iris-Setosa = 0\n",
      "Count of Iris-Versicolor = 0\n",
      "Count of Iris-Virginica =  34\n",
      "Reached Leaf Node\n",
      "\n",
      "Level  1\n",
      "Count of Iris-Setosa =  50\n",
      "Count of Iris-Versicolor = 0\n",
      "Count of Iris-Virginica = 0\n",
      "Reached Leaf Node\n",
      "\n",
      "Level  1\n",
      "Count of Iris-Setosa = 0\n",
      "Count of Iris-Versicolor =  40\n",
      "Count of Iris-Virginica =  16\n",
      "Current Entropy is : 0.863120568566631\n",
      "Splitting on feature  pl_labeled  with gain ratio 1.5624622032059474\n",
      "\n",
      "Level  2\n",
      "Count of Iris-Setosa = 0\n",
      "Count of Iris-versicolor =  1\n",
      "Count of Iris-Virginica = 0\n",
      "Reached Leaf Node\n",
      "\n",
      "Level  2\n",
      "Count of Iris-Setosa = 0\n",
      "Count of Iris-Versicolor = 0\n",
      "Count of Iris-Virginica =  8\n",
      "Reached Leaf Node\n",
      "\n",
      "Level  2\n",
      "Count of Iris-Setosa = 0\n",
      "Count of Iris-Versicolor =  39\n",
      "Count of Iris-Virginica =  8\n",
      "Current Entropy is : 0.6581912658132185\n",
      "Splitting on feature  sl_labeled  with gain ratio 1.3156374651613967\n",
      "\n",
      "Level  3\n",
      "Count of Iris-Setosa = 0\n",
      "Count of Iris-Versicolor =  23\n",
      "Count of Iris-Virginica =  7\n",
      "Current Entropy is : 0.783776947484701\n",
      "Splitting on feature  sw_labeled  with gain ratio 1.1266056606490316\n",
      "\n",
      "Level  4\n",
      "Count of Iris-Setosa = 0\n",
      "Count of Iris-versicolor =  14\n",
      "Count of Iris-Virginica =  6\n",
      "Reached Leaf Node\n",
      "\n",
      "Level  4\n",
      "Count of Iris-Setosa = 0\n",
      "Count of Iris-versicolor =  3\n",
      "Count of Iris-Virginica =  1\n",
      "Reached Leaf Node\n",
      "\n",
      "Level  4\n",
      "Count of Iris-Setosa = 0\n",
      "Count of Iris-versicolor =  6\n",
      "Count of Iris-Virginica = 0\n",
      "Reached Leaf Node\n",
      "\n",
      "Level  3\n",
      "Count of Iris-Setosa = 0\n",
      "Count of Iris-versicolor =  14\n",
      "Count of Iris-Virginica = 0\n",
      "Reached Leaf Node\n",
      "\n",
      "Level  3\n",
      "Count of Iris-Setosa = 0\n",
      "Count of Iris-Versicolor = 0\n",
      "Count of Iris-Virginica =  1\n",
      "Reached Leaf Node\n",
      "\n",
      "Level  3\n",
      "Count of Iris-Setosa = 0\n",
      "Count of Iris-versicolor =  2\n",
      "Count of Iris-Virginica = 0\n",
      "Reached Leaf Node\n",
      "\n"
     ]
    }
   ],
   "source": [
    "y = pd.DataFrame(iris.target,columns = [\"Predicted\"])\n",
    "unused_features = list(df.columns)\n",
    "root = build_tree(df, y, unused_features,0)"
   ]
  },
  {
   "cell_type": "code",
   "execution_count": 15,
   "metadata": {},
   "outputs": [],
   "source": [
    "def print_tree(root):\n",
    "    if root is None:\n",
    "        return\n",
    "    t = 0\n",
    "    q = queue.Queue(maxsize = 100)   \n",
    "    q.put([root,t])\n",
    "    while not q.empty(): \n",
    "        n = q.qsize()\n",
    "        while n > 0: \n",
    "            p = q.get()\n",
    "            if(p[0].isleaf):\n",
    "                out = max(p[0].count1,max(p[0].count2,p[0].count3))\n",
    "                if out == p[0].count1:\n",
    "                    print(\"Node:\",p[1],\"Leaf Node with Output:Iris-Setosa(0)\")\n",
    "                if out == p[0].count2:\n",
    "                    print(\"Node:\",p[1],\"Leaf Node with Output:Iris-Versicolor(1)\")\n",
    "                if out == p[0].count3:\n",
    "                    print(\"Node:\",p[1],\"Leaf Node with Output:Iris-Virginica(2)\")\n",
    "                print()\n",
    "            else:\n",
    "                print(\"Node:\",p[1],\"Feature on which it is splitted: \" ,p[0].feature_selected)\n",
    "                print(\"Acc. to the values of this feature its children are : \",end =\"\")\n",
    "                for i in range(len(p[0].children)): \n",
    "                    t = t + 1\n",
    "                    print(\"Node\",t,\":\",p[0].children[i][1],\",\",end = \" \")\n",
    "                    q.put([p[0].children[i][0],t])\n",
    "                    \n",
    "                print()\n",
    "                print()\n",
    "            n = n - 1 \n",
    "        \n",
    "    "
   ]
  },
  {
   "cell_type": "code",
   "execution_count": 16,
   "metadata": {},
   "outputs": [
    {
     "name": "stdout",
     "output_type": "stream",
     "text": [
      "Node: 0 Feature on which it is splitted:  pw_labeled\n",
      "Acc. to the values of this feature its children are : Node 1 : b , Node 2 : d , Node 3 : a , Node 4 : c , \n",
      "\n",
      "Node: 1 Leaf Node with Output:Iris-Versicolor(1)\n",
      "\n",
      "Node: 2 Leaf Node with Output:Iris-Virginica(2)\n",
      "\n",
      "Node: 3 Leaf Node with Output:Iris-Setosa(0)\n",
      "\n",
      "Node: 4 Feature on which it is splitted:  pl_labeled\n",
      "Acc. to the values of this feature its children are : Node 5 : b , Node 6 : d , Node 7 : c , \n",
      "\n",
      "Node: 5 Leaf Node with Output:Iris-Versicolor(1)\n",
      "\n",
      "Node: 6 Leaf Node with Output:Iris-Virginica(2)\n",
      "\n",
      "Node: 7 Feature on which it is splitted:  sl_labeled\n",
      "Acc. to the values of this feature its children are : Node 8 : c , Node 9 : b , Node 10 : a , Node 11 : d , \n",
      "\n",
      "Node: 8 Feature on which it is splitted:  sw_labeled\n",
      "Acc. to the values of this feature its children are : Node 12 : b , Node 13 : a , Node 14 : c , \n",
      "\n",
      "Node: 9 Leaf Node with Output:Iris-Versicolor(1)\n",
      "\n",
      "Node: 10 Leaf Node with Output:Iris-Virginica(2)\n",
      "\n",
      "Node: 11 Leaf Node with Output:Iris-Versicolor(1)\n",
      "\n",
      "Node: 12 Leaf Node with Output:Iris-Versicolor(1)\n",
      "\n",
      "Node: 13 Leaf Node with Output:Iris-Versicolor(1)\n",
      "\n",
      "Node: 14 Leaf Node with Output:Iris-Versicolor(1)\n",
      "\n"
     ]
    }
   ],
   "source": [
    "print_tree(root)"
   ]
  }
 ],
 "metadata": {
  "kernelspec": {
   "display_name": "Python 3",
   "language": "python",
   "name": "python3"
  },
  "language_info": {
   "codemirror_mode": {
    "name": "ipython",
    "version": 3
   },
   "file_extension": ".py",
   "mimetype": "text/x-python",
   "name": "python",
   "nbconvert_exporter": "python",
   "pygments_lexer": "ipython3",
   "version": "3.7.3"
  },
  "toc": {
   "base_numbering": 1,
   "nav_menu": {
    "height": "222px",
    "width": "198px"
   },
   "number_sections": true,
   "sideBar": true,
   "skip_h1_title": false,
   "title_cell": "Table of Contents",
   "title_sidebar": "Contents",
   "toc_cell": false,
   "toc_position": {},
   "toc_section_display": true,
   "toc_window_display": false
  }
 },
 "nbformat": 4,
 "nbformat_minor": 1
}
